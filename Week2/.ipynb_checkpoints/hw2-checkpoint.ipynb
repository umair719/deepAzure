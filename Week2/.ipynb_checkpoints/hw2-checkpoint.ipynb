{
 "cells": [
  {
   "cell_type": "markdown",
   "metadata": {
    "collapsed": true
   },
   "source": [
    "# Problem 2.\n",
    "\n",
    "Write a Python function that, when passed a single number as its argument, will return a tuple containing that number, square of that number and sin() of that number. Place this function in a loop going through a sequence of integers starting with 0 and ending with 9. Pass each integer to the function and print results to an output cell of your jupyter notebook.\n",
    "(20%)"
   ]
  },
  {
   "cell_type": "code",
   "execution_count": 1,
   "metadata": {
    "collapsed": true
   },
   "outputs": [],
   "source": [
    "import math"
   ]
  },
  {
   "cell_type": "code",
   "execution_count": 2,
   "metadata": {
    "collapsed": true
   },
   "outputs": [],
   "source": [
    "def main(number):\n",
    "    return (number, number*number, math.sin(number))"
   ]
  },
  {
   "cell_type": "code",
   "execution_count": 3,
   "metadata": {},
   "outputs": [
    {
     "name": "stdout",
     "output_type": "stream",
     "text": [
      "(0, 0, 0.0)\n",
      "(1, 1, 0.8414709848078965)\n",
      "(2, 4, 0.9092974268256817)\n",
      "(3, 9, 0.1411200080598672)\n",
      "(4, 16, -0.7568024953079282)\n",
      "(5, 25, -0.9589242746631385)\n",
      "(6, 36, -0.27941549819892586)\n",
      "(7, 49, 0.6569865987187891)\n",
      "(8, 64, 0.9893582466233818)\n",
      "(9, 81, 0.4121184852417566)\n"
     ]
    }
   ],
   "source": [
    "for n in range(0,10):\n",
    "    print(main(n))"
   ]
  },
  {
   "cell_type": "markdown",
   "metadata": {},
   "source": [
    "# Problem 4. \n",
    "Modify previous script so that it reads a sequence of integers from a simple text file and write its results into another text file. Prepare the input file with a single integer on every line. Write outputs into the output file similarly, one output per line.\n",
    "(25%)"
   ]
  },
  {
   "cell_type": "code",
   "execution_count": 4,
   "metadata": {
    "collapsed": true
   },
   "outputs": [],
   "source": [
    "# Define input and output file\n",
    "r_file = open('read.txt', 'r')\n",
    "w_file = open('write.txt', 'w')"
   ]
  },
  {
   "cell_type": "code",
   "execution_count": 5,
   "metadata": {
    "collapsed": true
   },
   "outputs": [],
   "source": [
    "# Read each line from r_file and run main method. \n",
    "# Save output in new line of a the w_file\n",
    "for n in r_file:\n",
    "    w_file.write(str((main(int(n)))) + '\\n')"
   ]
  },
  {
   "cell_type": "code",
   "execution_count": 6,
   "metadata": {},
   "outputs": [
    {
     "name": "stdout",
     "output_type": "stream",
     "text": [
      "(0, 0, 0.0)\n",
      "\n",
      "(33, 1089, 0.9999118601072672)\n",
      "\n",
      "(43, 1849, -0.8317747426285983)\n",
      "\n",
      "(53, 2809, 0.3959251501818342)\n",
      "\n",
      "(21, 441, 0.836655638536056)\n",
      "\n",
      "(24, 576, -0.9055783620066239)\n",
      "\n",
      "(12, 144, -0.5365729180004349)\n",
      "\n"
     ]
    }
   ],
   "source": [
    "# Print output from output file\n",
    "w_file = open('write.txt', 'r')\n",
    "for l in w_file:\n",
    "    print(l)"
   ]
  },
  {
   "cell_type": "markdown",
   "metadata": {},
   "source": [
    "# Problem 5. \n",
    "Consider attached file small_car_data.xlsx. Import data into a panda DataFrame. Use panda machinery to calculate basic statistics for all numerical columns, min, max, median, average and standard deviation. Determine and present graphically statistical distributions of values in those columns. Try to establish correlations between values in different columns. Which two columns are mutually most correlated?\n",
    "(25%)"
   ]
  },
  {
   "cell_type": "code",
   "execution_count": 7,
   "metadata": {
    "collapsed": true
   },
   "outputs": [],
   "source": [
    "import pandas as pd\n",
    "import numpy as np\n",
    "import matplotlib.pyplot as plt\n",
    "\n",
    "# do ploting inline instead of ina separate window\n",
    "%matplotlib inline"
   ]
  },
  {
   "cell_type": "code",
   "execution_count": 8,
   "metadata": {},
   "outputs": [],
   "source": [
    "sc_data = pd.read_csv('Small_Car_Data.csv')\n",
    "df = pd.DataFrame(sc_data)"
   ]
  },
  {
   "cell_type": "code",
   "execution_count": 9,
   "metadata": {},
   "outputs": [
    {
     "data": {
      "text/plain": [
       "(100, 11)"
      ]
     },
     "execution_count": 9,
     "metadata": {},
     "output_type": "execute_result"
    }
   ],
   "source": [
    "df.shape"
   ]
  },
  {
   "cell_type": "code",
   "execution_count": 10,
   "metadata": {},
   "outputs": [
    {
     "data": {
      "text/html": [
       "<div>\n",
       "<style>\n",
       "    .dataframe thead tr:only-child th {\n",
       "        text-align: right;\n",
       "    }\n",
       "\n",
       "    .dataframe thead th {\n",
       "        text-align: left;\n",
       "    }\n",
       "\n",
       "    .dataframe tbody tr th {\n",
       "        vertical-align: top;\n",
       "    }\n",
       "</style>\n",
       "<table border=\"1\" class=\"dataframe\">\n",
       "  <thead>\n",
       "    <tr style=\"text-align: right;\">\n",
       "      <th></th>\n",
       "      <th>Unnamed: 0</th>\n",
       "      <th>Acceleration</th>\n",
       "      <th>Cylinders</th>\n",
       "      <th>Displacement</th>\n",
       "      <th>Horsepower</th>\n",
       "      <th>Manufacturer</th>\n",
       "      <th>Model</th>\n",
       "      <th>Model_Year</th>\n",
       "      <th>MPG</th>\n",
       "      <th>Origin</th>\n",
       "      <th>Weight</th>\n",
       "    </tr>\n",
       "  </thead>\n",
       "  <tbody>\n",
       "    <tr>\n",
       "      <th>0</th>\n",
       "      <td>1</td>\n",
       "      <td>12.0</td>\n",
       "      <td>8</td>\n",
       "      <td>307</td>\n",
       "      <td>130</td>\n",
       "      <td>chevrolet</td>\n",
       "      <td>chevrolet chevelle malibu</td>\n",
       "      <td>70</td>\n",
       "      <td>18.0</td>\n",
       "      <td>USA</td>\n",
       "      <td>3504</td>\n",
       "    </tr>\n",
       "    <tr>\n",
       "      <th>1</th>\n",
       "      <td>2</td>\n",
       "      <td>11.5</td>\n",
       "      <td>8</td>\n",
       "      <td>350</td>\n",
       "      <td>165</td>\n",
       "      <td>buick</td>\n",
       "      <td>buick skylark 320</td>\n",
       "      <td>70</td>\n",
       "      <td>15.0</td>\n",
       "      <td>USA</td>\n",
       "      <td>3693</td>\n",
       "    </tr>\n",
       "    <tr>\n",
       "      <th>2</th>\n",
       "      <td>3</td>\n",
       "      <td>11.0</td>\n",
       "      <td>8</td>\n",
       "      <td>318</td>\n",
       "      <td>150</td>\n",
       "      <td>plymouth</td>\n",
       "      <td>plymouth satellite</td>\n",
       "      <td>70</td>\n",
       "      <td>18.0</td>\n",
       "      <td>USA</td>\n",
       "      <td>3436</td>\n",
       "    </tr>\n",
       "    <tr>\n",
       "      <th>3</th>\n",
       "      <td>4</td>\n",
       "      <td>12.0</td>\n",
       "      <td>8</td>\n",
       "      <td>304</td>\n",
       "      <td>150</td>\n",
       "      <td>amc</td>\n",
       "      <td>amc rebel sst</td>\n",
       "      <td>70</td>\n",
       "      <td>16.0</td>\n",
       "      <td>USA</td>\n",
       "      <td>3433</td>\n",
       "    </tr>\n",
       "    <tr>\n",
       "      <th>4</th>\n",
       "      <td>5</td>\n",
       "      <td>10.5</td>\n",
       "      <td>8</td>\n",
       "      <td>302</td>\n",
       "      <td>140</td>\n",
       "      <td>ford</td>\n",
       "      <td>ford torino</td>\n",
       "      <td>70</td>\n",
       "      <td>17.0</td>\n",
       "      <td>USA</td>\n",
       "      <td>3449</td>\n",
       "    </tr>\n",
       "  </tbody>\n",
       "</table>\n",
       "</div>"
      ],
      "text/plain": [
       "   Unnamed: 0  Acceleration  Cylinders  Displacement  Horsepower  \\\n",
       "0           1          12.0          8           307         130   \n",
       "1           2          11.5          8           350         165   \n",
       "2           3          11.0          8           318         150   \n",
       "3           4          12.0          8           304         150   \n",
       "4           5          10.5          8           302         140   \n",
       "\n",
       "    Manufacturer                              Model  Model_Year   MPG  \\\n",
       "0  chevrolet      chevrolet chevelle malibu                  70  18.0   \n",
       "1  buick          buick skylark 320                          70  15.0   \n",
       "2  plymouth       plymouth satellite                         70  18.0   \n",
       "3  amc            amc rebel sst                              70  16.0   \n",
       "4  ford           ford torino                                70  17.0   \n",
       "\n",
       "    Origin  Weight  \n",
       "0  USA        3504  \n",
       "1  USA        3693  \n",
       "2  USA        3436  \n",
       "3  USA        3433  \n",
       "4  USA        3449  "
      ]
     },
     "execution_count": 10,
     "metadata": {},
     "output_type": "execute_result"
    }
   ],
   "source": [
    "df.head()"
   ]
  },
  {
   "cell_type": "code",
   "execution_count": 11,
   "metadata": {
    "collapsed": true
   },
   "outputs": [],
   "source": [
    "df.drop('Unnamed: 0', axis=1, inplace=True)"
   ]
  },
  {
   "cell_type": "code",
   "execution_count": 12,
   "metadata": {},
   "outputs": [
    {
     "data": {
      "text/html": [
       "<div>\n",
       "<style>\n",
       "    .dataframe thead tr:only-child th {\n",
       "        text-align: right;\n",
       "    }\n",
       "\n",
       "    .dataframe thead th {\n",
       "        text-align: left;\n",
       "    }\n",
       "\n",
       "    .dataframe tbody tr th {\n",
       "        vertical-align: top;\n",
       "    }\n",
       "</style>\n",
       "<table border=\"1\" class=\"dataframe\">\n",
       "  <thead>\n",
       "    <tr style=\"text-align: right;\">\n",
       "      <th></th>\n",
       "      <th>Acceleration</th>\n",
       "      <th>Cylinders</th>\n",
       "      <th>Displacement</th>\n",
       "      <th>Horsepower</th>\n",
       "      <th>Model_Year</th>\n",
       "      <th>MPG</th>\n",
       "      <th>Weight</th>\n",
       "    </tr>\n",
       "  </thead>\n",
       "  <tbody>\n",
       "    <tr>\n",
       "      <th>count</th>\n",
       "      <td>100.000000</td>\n",
       "      <td>100.000000</td>\n",
       "      <td>100.000000</td>\n",
       "      <td>100.000000</td>\n",
       "      <td>100.000000</td>\n",
       "      <td>100.000000</td>\n",
       "      <td>100.000000</td>\n",
       "    </tr>\n",
       "    <tr>\n",
       "      <th>mean</th>\n",
       "      <td>15.028000</td>\n",
       "      <td>5.620000</td>\n",
       "      <td>207.600000</td>\n",
       "      <td>111.830000</td>\n",
       "      <td>75.760000</td>\n",
       "      <td>23.315000</td>\n",
       "      <td>3011.830000</td>\n",
       "    </tr>\n",
       "    <tr>\n",
       "      <th>std</th>\n",
       "      <td>3.348453</td>\n",
       "      <td>1.790999</td>\n",
       "      <td>111.774484</td>\n",
       "      <td>45.345153</td>\n",
       "      <td>4.893038</td>\n",
       "      <td>7.966995</td>\n",
       "      <td>806.962418</td>\n",
       "    </tr>\n",
       "    <tr>\n",
       "      <th>min</th>\n",
       "      <td>8.000000</td>\n",
       "      <td>4.000000</td>\n",
       "      <td>85.000000</td>\n",
       "      <td>46.000000</td>\n",
       "      <td>70.000000</td>\n",
       "      <td>9.000000</td>\n",
       "      <td>1795.000000</td>\n",
       "    </tr>\n",
       "    <tr>\n",
       "      <th>25%</th>\n",
       "      <td>12.950000</td>\n",
       "      <td>4.000000</td>\n",
       "      <td>109.500000</td>\n",
       "      <td>81.750000</td>\n",
       "      <td>70.000000</td>\n",
       "      <td>16.375000</td>\n",
       "      <td>2285.000000</td>\n",
       "    </tr>\n",
       "    <tr>\n",
       "      <th>50%</th>\n",
       "      <td>15.150000</td>\n",
       "      <td>4.000000</td>\n",
       "      <td>153.500000</td>\n",
       "      <td>92.000000</td>\n",
       "      <td>76.000000</td>\n",
       "      <td>23.500000</td>\n",
       "      <td>2850.000000</td>\n",
       "    </tr>\n",
       "    <tr>\n",
       "      <th>75%</th>\n",
       "      <td>17.325000</td>\n",
       "      <td>8.000000</td>\n",
       "      <td>305.500000</td>\n",
       "      <td>146.250000</td>\n",
       "      <td>82.000000</td>\n",
       "      <td>28.250000</td>\n",
       "      <td>3661.500000</td>\n",
       "    </tr>\n",
       "    <tr>\n",
       "      <th>max</th>\n",
       "      <td>24.600000</td>\n",
       "      <td>8.000000</td>\n",
       "      <td>455.000000</td>\n",
       "      <td>225.000000</td>\n",
       "      <td>82.000000</td>\n",
       "      <td>44.000000</td>\n",
       "      <td>4732.000000</td>\n",
       "    </tr>\n",
       "  </tbody>\n",
       "</table>\n",
       "</div>"
      ],
      "text/plain": [
       "       Acceleration   Cylinders  Displacement  Horsepower  Model_Year  \\\n",
       "count    100.000000  100.000000    100.000000  100.000000  100.000000   \n",
       "mean      15.028000    5.620000    207.600000  111.830000   75.760000   \n",
       "std        3.348453    1.790999    111.774484   45.345153    4.893038   \n",
       "min        8.000000    4.000000     85.000000   46.000000   70.000000   \n",
       "25%       12.950000    4.000000    109.500000   81.750000   70.000000   \n",
       "50%       15.150000    4.000000    153.500000   92.000000   76.000000   \n",
       "75%       17.325000    8.000000    305.500000  146.250000   82.000000   \n",
       "max       24.600000    8.000000    455.000000  225.000000   82.000000   \n",
       "\n",
       "              MPG       Weight  \n",
       "count  100.000000   100.000000  \n",
       "mean    23.315000  3011.830000  \n",
       "std      7.966995   806.962418  \n",
       "min      9.000000  1795.000000  \n",
       "25%     16.375000  2285.000000  \n",
       "50%     23.500000  2850.000000  \n",
       "75%     28.250000  3661.500000  \n",
       "max     44.000000  4732.000000  "
      ]
     },
     "execution_count": 12,
     "metadata": {},
     "output_type": "execute_result"
    }
   ],
   "source": [
    "df.describe()"
   ]
  },
  {
   "cell_type": "code",
   "execution_count": 13,
   "metadata": {},
   "outputs": [
    {
     "data": {
      "text/html": [
       "<div>\n",
       "<style>\n",
       "    .dataframe thead tr:only-child th {\n",
       "        text-align: right;\n",
       "    }\n",
       "\n",
       "    .dataframe thead th {\n",
       "        text-align: left;\n",
       "    }\n",
       "\n",
       "    .dataframe tbody tr th {\n",
       "        vertical-align: top;\n",
       "    }\n",
       "</style>\n",
       "<table border=\"1\" class=\"dataframe\">\n",
       "  <thead>\n",
       "    <tr style=\"text-align: right;\">\n",
       "      <th></th>\n",
       "      <th>Acceleration</th>\n",
       "      <th>Cylinders</th>\n",
       "      <th>Displacement</th>\n",
       "      <th>Horsepower</th>\n",
       "      <th>Model_Year</th>\n",
       "      <th>MPG</th>\n",
       "      <th>Weight</th>\n",
       "    </tr>\n",
       "  </thead>\n",
       "  <tbody>\n",
       "    <tr>\n",
       "      <th>Acceleration</th>\n",
       "      <td>1.000000</td>\n",
       "      <td>-0.647346</td>\n",
       "      <td>-0.694744</td>\n",
       "      <td>-0.694118</td>\n",
       "      <td>0.484253</td>\n",
       "      <td>0.464598</td>\n",
       "      <td>-0.487942</td>\n",
       "    </tr>\n",
       "    <tr>\n",
       "      <th>Cylinders</th>\n",
       "      <td>-0.647346</td>\n",
       "      <td>1.000000</td>\n",
       "      <td>0.951167</td>\n",
       "      <td>0.861873</td>\n",
       "      <td>-0.605270</td>\n",
       "      <td>-0.811988</td>\n",
       "      <td>0.884401</td>\n",
       "    </tr>\n",
       "    <tr>\n",
       "      <th>Displacement</th>\n",
       "      <td>-0.694744</td>\n",
       "      <td>0.951167</td>\n",
       "      <td>1.000000</td>\n",
       "      <td>0.913560</td>\n",
       "      <td>-0.577851</td>\n",
       "      <td>-0.787702</td>\n",
       "      <td>0.889475</td>\n",
       "    </tr>\n",
       "    <tr>\n",
       "      <th>Horsepower</th>\n",
       "      <td>-0.694118</td>\n",
       "      <td>0.861873</td>\n",
       "      <td>0.913560</td>\n",
       "      <td>1.000000</td>\n",
       "      <td>-0.608498</td>\n",
       "      <td>-0.797357</td>\n",
       "      <td>0.872247</td>\n",
       "    </tr>\n",
       "    <tr>\n",
       "      <th>Model_Year</th>\n",
       "      <td>0.484253</td>\n",
       "      <td>-0.605270</td>\n",
       "      <td>-0.577851</td>\n",
       "      <td>-0.608498</td>\n",
       "      <td>1.000000</td>\n",
       "      <td>0.717115</td>\n",
       "      <td>-0.496371</td>\n",
       "    </tr>\n",
       "    <tr>\n",
       "      <th>MPG</th>\n",
       "      <td>0.464598</td>\n",
       "      <td>-0.811988</td>\n",
       "      <td>-0.787702</td>\n",
       "      <td>-0.797357</td>\n",
       "      <td>0.717115</td>\n",
       "      <td>1.000000</td>\n",
       "      <td>-0.851958</td>\n",
       "    </tr>\n",
       "    <tr>\n",
       "      <th>Weight</th>\n",
       "      <td>-0.487942</td>\n",
       "      <td>0.884401</td>\n",
       "      <td>0.889475</td>\n",
       "      <td>0.872247</td>\n",
       "      <td>-0.496371</td>\n",
       "      <td>-0.851958</td>\n",
       "      <td>1.000000</td>\n",
       "    </tr>\n",
       "  </tbody>\n",
       "</table>\n",
       "</div>"
      ],
      "text/plain": [
       "              Acceleration  Cylinders  Displacement  Horsepower  Model_Year  \\\n",
       "Acceleration      1.000000  -0.647346     -0.694744   -0.694118    0.484253   \n",
       "Cylinders        -0.647346   1.000000      0.951167    0.861873   -0.605270   \n",
       "Displacement     -0.694744   0.951167      1.000000    0.913560   -0.577851   \n",
       "Horsepower       -0.694118   0.861873      0.913560    1.000000   -0.608498   \n",
       "Model_Year        0.484253  -0.605270     -0.577851   -0.608498    1.000000   \n",
       "MPG               0.464598  -0.811988     -0.787702   -0.797357    0.717115   \n",
       "Weight           -0.487942   0.884401      0.889475    0.872247   -0.496371   \n",
       "\n",
       "                   MPG    Weight  \n",
       "Acceleration  0.464598 -0.487942  \n",
       "Cylinders    -0.811988  0.884401  \n",
       "Displacement -0.787702  0.889475  \n",
       "Horsepower   -0.797357  0.872247  \n",
       "Model_Year    0.717115 -0.496371  \n",
       "MPG           1.000000 -0.851958  \n",
       "Weight       -0.851958  1.000000  "
      ]
     },
     "execution_count": 13,
     "metadata": {},
     "output_type": "execute_result"
    }
   ],
   "source": [
    "df.corr()"
   ]
  },
  {
   "cell_type": "code",
   "execution_count": 14,
   "metadata": {},
   "outputs": [
    {
     "data": {
      "text/plain": [
       "<matplotlib.axes._subplots.AxesSubplot at 0x11752a278>"
      ]
     },
     "execution_count": 14,
     "metadata": {},
     "output_type": "execute_result"
    },
    {
     "data": {
      "image/png": "[encoded data removed]",
      "text/plain": [
       "<matplotlib.figure.Figure at 0x1174fb8d0>"
      ]
     },
     "metadata": {},
     "output_type": "display_data"
    }
   ],
   "source": [
    "df.corr().plot(kind='bar', rot=90, figsize=(10,10))"
   ]
  },
  {
   "cell_type": "code",
   "execution_count": 15,
   "metadata": {},
   "outputs": [],
   "source": [
    "def plot_corr(df, size=10):\n",
    "    \"\"\"\n",
    "    Function plots a graphical correlation matrix for each pair of columns in the dataframe.\n",
    "\n",
    "    Input:\n",
    "        df: pandas DataFrame\n",
    "        size: vertical and horizontal size of the plot\n",
    "\n",
    "    Displays:\n",
    "        matrix of correlation between columns.  Blue-cyan-yellow-red-darkred => less to more correlated\n",
    "                                                0 ------------------>  1\n",
    "                                                Expect a darkred line running from top left to bottom right\n",
    "    \"\"\"\n",
    "\n",
    "    corr = df.corr()    # data frame correlation function\n",
    "    fig, ax = plt.subplots(figsize=(size, size))\n",
    "    ax.matshow(corr)   # color code the rectangles by correlation value\n",
    "    plt.xticks(range(len(corr.columns)), corr.columns)  # draw x tick marks\n",
    "    plt.yticks(range(len(corr.columns)), corr.columns)  # draw y tick marks"
   ]
  },
  {
   "cell_type": "code",
   "execution_count": 16,
   "metadata": {},
   "outputs": [
    {
     "data": {
      "image/png": "[encoded data removed]",
      "text/plain": [
       "<matplotlib.figure.Figure at 0x11a92acf8>"
      ]
     },
     "metadata": {},
     "output_type": "display_data"
    }
   ],
   "source": [
    "plot_corr(df)"
   ]
  },
  {
   "cell_type": "code",
   "execution_count": null,
   "metadata": {
    "collapsed": true
   },
   "outputs": [],
   "source": []
  }
 ],
 "metadata": {
  "kernelspec": {
   "display_name": "Python 3",
   "language": "python",
   "name": "python3"
  },
  "language_info": {
   "codemirror_mode": {
    "name": "ipython",
    "version": 3
   },
   "file_extension": ".py",
   "mimetype": "text/x-python",
   "name": "python",
   "nbconvert_exporter": "python",
   "pygments_lexer": "ipython3",
   "version": "3.6.1"
  }
 },
 "nbformat": 4,
 "nbformat_minor": 1
}
