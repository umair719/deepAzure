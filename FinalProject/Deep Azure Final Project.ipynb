{
 "cells": [
  {
   "cell_type": "markdown",
   "metadata": {},
   "source": [
    "# Deep Azure - Final Project using Azure Computer Vision API"
   ]
  },
  {
   "cell_type": "markdown",
   "metadata": {},
   "source": [
    "#### By Umair Khalid - umair.khalid@mckesson.com - Feb 10, 2017\n",
    "\n",
    "Goal of this project is to understand the capablities of the Azure Computer Vision API and how it can be applied to common healthcare technology challenges. We will be using the out-of-the-box capablities offered by Azure today. "
   ]
  },
  {
   "cell_type": "markdown",
   "metadata": {},
   "source": [
    "### Use Case # 1 - Object Recognition - Pill count and identification using Azure Computer Vision API\n",
    "\n",
    "Patient often have trouble keeping up with how many doses they have remaining and when they are expected to run out. With the aid of smartphone camera, and Azure’s Computer Vision API, we can easy help identify how many pill they have remaining in the container and based on their daily dosage, automatically place an order with their pharmacy."
   ]
  },
  {
   "cell_type": "markdown",
   "metadata": {},
   "source": [
    "#### Test Case # 1 - Shows a variety of pill with different shapes and sizes  \n",
    "\n",
    "![Test Image](https://lh3.ggpht.com/uYHglimIijXcGGwmcd-VtOgdmU4utp-9gOjJhQ8G0aKIOSxIBqo0ifrDv6qHEU4gd76I=w300)\n",
    "\n",
    "Assertions: \n",
    "1. Computer Vision API should identify 7 pills. \n",
    "2. Pills should be grouped into 5 different categories.\n",
    "3. Each category should have trails identified such as color, shape, dimensions\n"
   ]
  },
  {
   "cell_type": "code",
   "execution_count": 2,
   "metadata": {},
   "outputs": [
    {
     "name": "stdout",
     "output_type": "stream",
     "text": [
      "A close up of a white table\n",
      "{'description': {'captions': [{'confidence': 0.2947399865744497,\n",
      "                               'text': 'a close up of a white table'}],\n",
      "                 'tags': ['indoor',\n",
      "                          'table',\n",
      "                          'sitting',\n",
      "                          'small',\n",
      "                          'top',\n",
      "                          'white',\n",
      "                          'counter',\n",
      "                          'remote',\n",
      "                          'brush',\n",
      "                          'sink']},\n",
      " 'metadata': {'format': 'Png', 'height': 300, 'width': 300},\n",
      " 'requestId': '4db80d5a-027a-48a6-a0f6-bfc8c8064c8f'}\n"
     ]
    }
   ],
   "source": [
    "import requests\n",
    "import pprint\n",
    "\n",
    "subscription_key = \"e2c78a91f24148658352eb0a10c3e383\"\n",
    "assert subscription_key\n",
    "\n",
    "vision_base_url = \"https://westcentralus.api.cognitive.microsoft.com/vision/v1.0/\"\n",
    "vision_analyze_url = vision_base_url + \"describe\"\n",
    "\n",
    "image_url = \"https://lh3.ggpht.com/uYHglimIijXcGGwmcd-VtOgdmU4utp-9gOjJhQ8G0aKIOSxIBqo0ifrDv6qHEU4gd76I=w300\"\n",
    "\n",
    "headers = {'Ocp-Apim-Subscription-Key' : subscription_key }\n",
    "params = {'visualFeatures': 'Categories,Description,Color'}\n",
    "data = {'url': image_url}\n",
    "response = requests.post(vision_analyze_url, headers=headers, params=params, json=data)\n",
    "response.raise_for_status()\n",
    "analysis = response.json()\n",
    "\n",
    "image_caption = analysis[\"description\"][\"captions\"][0][\"text\"].capitalize()\n",
    "print(image_caption)\n",
    "\n",
    "pprint.pprint(analysis)\n"
   ]
  },
  {
   "cell_type": "markdown",
   "metadata": {},
   "source": [
    "####  Test Case # 1 Result: FAILED ALL ASSERTIONS\n",
    "\n",
    "The API failed to recognize the pill at all, and identified that there is a white table. Non of the tags identified that Pills exist anywhere on the table."
   ]
  },
  {
   "cell_type": "markdown",
   "metadata": {},
   "source": [
    "#### Test Case # 2 - Shows same type of pill \n",
    "\n",
    "![Test Image](http://2tlwk93pj6ddba08a1egtidy.wpengine.netdna-cdn.com/wp-content/uploads/2016/05/pills-3.jpg)\n",
    "\n",
    "Assertions: \n",
    "1. Computer Vision API should identify 9 pills."
   ]
  },
  {
   "cell_type": "code",
   "execution_count": 3,
   "metadata": {},
   "outputs": [
    {
     "name": "stdout",
     "output_type": "stream",
     "text": [
      "A close up of a cutting board\n",
      "{'description': {'captions': [{'confidence': 0.4720577622103957,\n",
      "                               'text': 'a close up of a cutting board'}],\n",
      "                 'tags': ['indoor',\n",
      "                          'surface',\n",
      "                          'board',\n",
      "                          'table',\n",
      "                          'sitting',\n",
      "                          'red',\n",
      "                          'top',\n",
      "                          'cutting',\n",
      "                          'topped',\n",
      "                          'small',\n",
      "                          'laying',\n",
      "                          'counter',\n",
      "                          'white',\n",
      "                          'food',\n",
      "                          'close',\n",
      "                          'fruit',\n",
      "                          'remote',\n",
      "                          'apple',\n",
      "                          'bear',\n",
      "                          'plate',\n",
      "                          'knife',\n",
      "                          'bed',\n",
      "                          'bottle',\n",
      "                          'cake']},\n",
      " 'metadata': {'format': 'Jpeg', 'height': 1536, 'width': 2048},\n",
      " 'requestId': '696f80e4-2c9a-43ad-9696-2fe112675d87'}\n"
     ]
    }
   ],
   "source": [
    "image_url = \"http://2tlwk93pj6ddba08a1egtidy.wpengine.netdna-cdn.com/wp-content/uploads/2016/05/pills-3.jpg\"\n",
    "\n",
    "headers = {'Ocp-Apim-Subscription-Key' : subscription_key }\n",
    "params = {'visualFeatures': 'Categories,Description,Color'}\n",
    "data = {'url': image_url}\n",
    "response = requests.post(vision_analyze_url, headers=headers, params=params, json=data)\n",
    "response.raise_for_status()\n",
    "analysis = response.json()\n",
    "\n",
    "image_caption = analysis[\"description\"][\"captions\"][0][\"text\"].capitalize()\n",
    "print(image_caption)\n",
    "\n",
    "pprint.pprint(analysis)"
   ]
  },
  {
   "cell_type": "markdown",
   "metadata": {},
   "source": [
    "####  Test Case # 2 Result: FAILED ALL ASSERTIONS\n",
    "\n",
    "The API failed to recognize the pill at all, and identified that there is a white cutting board. Non of the tags identified that Pills exist anywhere on the table."
   ]
  },
  {
   "cell_type": "code",
   "execution_count": null,
   "metadata": {},
   "outputs": [],
   "source": []
  }
 ],
 "metadata": {
  "kernelspec": {
   "display_name": "Python 3",
   "language": "python",
   "name": "python3"
  },
  "language_info": {
   "codemirror_mode": {
    "name": "ipython",
    "version": 3
   },
   "file_extension": ".py",
   "mimetype": "text/x-python",
   "name": "python",
   "nbconvert_exporter": "python",
   "pygments_lexer": "ipython3",
   "version": "3.5.3"
  }
 },
 "nbformat": 4,
 "nbformat_minor": 2
}
