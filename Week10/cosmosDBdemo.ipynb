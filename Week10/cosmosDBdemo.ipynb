{
 "cells": [
  {
   "cell_type": "code",
   "execution_count": null,
   "metadata": {
    "collapsed": false
   },
   "outputs": [],
   "source": [
    "\"\"\"Create AzureDocument DB, \n",
    "    a collection in it, load a few records to that collection,\n",
    "    and query those records using SQL syntax.\n",
    "    ENDPOINT= URI of SQL API cosmosDB account\n",
    "    MASTERKEY=primary key\n",
    "\"\"\"\n",
    "\n",
    "import pydocumentdb\n",
    "import pydocumentdb.document_client as document_client\n",
    "\n",
    "config = { \n",
    "    'ENDPOINT': 'https://pydemo.documents.azure.com:443/',\n",
    "    'MASTERKEY': 'd7D5iheSPybzGvvEuAhsV3ZE1Csq4AOYSNbW3oCcOWBqFW4GTnZhrRnzDPVspABtUNeqkLJjMoFh4BLNXxB7sQ==',\n",
    "    'DOCUMENTDB_DATABASE': 'pythondemoDB',\n",
    "    'DOCUMENTDB_COLLECTION': 'testItems'}\n",
    "\n",
    "client = document_client.DocumentClient(\n",
    "                config['ENDPOINT'], \n",
    "                {'masterKey': config['MASTERKEY']})\n"
   ]
  },
  {
   "cell_type": "code",
   "execution_count": null,
   "metadata": {
    "collapsed": true
   },
   "outputs": [],
   "source": [
    "#Create a DB and a collection\n",
    "db = client.CreateDatabase({ 'id': config['DOCUMENTDB_DATABASE'] })\n",
    "options = {\n",
    "        'offerEnableRUPerMinuteThroughput': True,\n",
    "        'offerVersion': \"V2\",\n",
    "        'offerThroughput': 400}\n",
    "collection = client.CreateCollection(db['_self'], \n",
    "                    { 'id': config['DOCUMENTDB_COLLECTION'] }, \n",
    "                    options)"
   ]
  },
  {
   "cell_type": "code",
   "execution_count": null,
   "metadata": {
    "collapsed": true
   },
   "outputs": [],
   "source": [
    "# Create some documents\n",
    "document1 = client.CreateDocument(collection['_self'],\n",
    "    { \n",
    "        'id': 'server1',\n",
    "        'Web Site': 0,\n",
    "        'Cloud Service': 0,\n",
    "        'Virtual Machine': 0,\n",
    "        'name': 'some' \n",
    "    })\n",
    "\n",
    "document2 = client.CreateDocument(collection['_self'],\n",
    "    { \n",
    "        'id': 'server2',\n",
    "        'Web Site': 1,\n",
    "        'Cloud Service': 0,\n",
    "        'Virtual Machine': 0,\n",
    "        'name': 'some' \n",
    "    })"
   ]
  },
  {
   "cell_type": "code",
   "execution_count": null,
   "metadata": {
    "collapsed": true
   },
   "outputs": [],
   "source": []
  },
  {
   "cell_type": "code",
   "execution_count": null,
   "metadata": {
    "collapsed": false
   },
   "outputs": [],
   "source": [
    "# Query those documents in SQL\n",
    "query = { 'query': 'SELECT * FROM server s' }    \n",
    "options = {'enableCrossPartitionQuery': True, 'maxItemCount':2 } \n",
    "result_iterable = client.QueryDocuments(\n",
    "                collection['_self'], query, options)\n",
    "results = list(result_iterable);\n",
    "from pprint import pprint as pp\n",
    "for item in results:\n",
    "    print(\"____________________________\")\n",
    "    pp(item)"
   ]
  },
  {
   "cell_type": "code",
   "execution_count": null,
   "metadata": {
    "collapsed": true
   },
   "outputs": [],
   "source": []
  },
  {
   "cell_type": "code",
   "execution_count": null,
   "metadata": {
    "collapsed": true
   },
   "outputs": [],
   "source": []
  },
  {
   "cell_type": "code",
   "execution_count": null,
   "metadata": {
    "collapsed": false
   },
   "outputs": [],
   "source": [
    "#List all databases in your CosmosDB account\n",
    "for item in list(client.ReadDatabases()):\n",
    "    print(item['id'])"
   ]
  },
  {
   "cell_type": "code",
   "execution_count": null,
   "metadata": {
    "collapsed": false
   },
   "outputs": [],
   "source": [
    "#Create one more collection\n",
    "db_link='dbs/' + config['DOCUMENTDB_DATABASE']\n",
    "\n",
    "def create_collection(client, db_link, id):\n",
    "    client.CreateCollection(db_link, {\"id\": id})\n",
    "    print('Collection with id \\'{0}\\' created'.format(id))\n",
    "create_collection(client, db_link, \"dummy\")"
   ]
  },
  {
   "cell_type": "code",
   "execution_count": null,
   "metadata": {
    "collapsed": false
   },
   "outputs": [],
   "source": [
    " #List all collections in a database \n",
    "def listCollectionsInDB(db_link):\n",
    "    collections = list(client.ReadCollections(db_link))\n",
    "    if not collections:\n",
    "        print(\"no collections here\")\n",
    "    else:\n",
    "        for collection in collections:\n",
    "            print(collection['id'])          \n",
    "listCollectionsInDB(db_link)"
   ]
  },
  {
   "cell_type": "code",
   "execution_count": null,
   "metadata": {
    "collapsed": false
   },
   "outputs": [],
   "source": [
    "#Delete a collection\n",
    "def delete_collection(client, db_link, id):\n",
    "    collection_link = db_link + '/colls/{0}'.format(id)\n",
    "    client.DeleteCollection(collection_link)\n",
    "    print('Collection with id \\'{0}\\' was deleted'.format(id))\n",
    "delete_collection(client, db_link, \"dummy\")"
   ]
  },
  {
   "cell_type": "code",
   "execution_count": null,
   "metadata": {
    "collapsed": false
   },
   "outputs": [],
   "source": [
    "#Delete this database\n",
    "client.DeleteDatabase(db_link)\n",
    "print('Database with id \\'{0}\\' was deleted'.format(config['DOCUMENTDB_DATABASE']))"
   ]
  }
 ],
 "metadata": {
  "kernelspec": {
   "display_name": "Python 3",
   "language": "python",
   "name": "python3"
  },
  "language_info": {
   "codemirror_mode": {
    "name": "ipython",
    "version": 3
   },
   "file_extension": ".py",
   "mimetype": "text/x-python",
   "name": "python",
   "nbconvert_exporter": "python",
   "pygments_lexer": "ipython3",
   "version": "3.4.5"
  }
 },
 "nbformat": 4,
 "nbformat_minor": 2
}
